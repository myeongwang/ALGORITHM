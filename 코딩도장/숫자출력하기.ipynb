{
 "cells": [
  {
   "cell_type": "markdown",
   "id": "e976137c",
   "metadata": {},
   "source": [
    "20150111을 출력합니다\n",
    "4가지 기준\n",
    "\n",
    "1. 코드 내에 숫자가 없어야함\n",
    "2. 파일 이름이나 경로를 사용해서는 안됨.\n",
    "3. 시간,날짜 함수를 사용해서는 안됨.\n",
    "4. 에러 번호 출력을 이용해서는 안됨."
   ]
  },
  {
   "cell_type": "code",
   "execution_count": 2,
   "id": "cb73d9c5",
   "metadata": {},
   "outputs": [
    {
     "name": "stdout",
     "output_type": "stream",
     "text": [
      "20150111\n"
     ]
    }
   ],
   "source": [
    "print(int('gwnae',ord('!')))"
   ]
  },
  {
   "cell_type": "code",
   "execution_count": 3,
   "id": "76fbe5b0",
   "metadata": {},
   "outputs": [
    {
     "data": {
      "text/plain": [
       "'\\x10'"
      ]
     },
     "execution_count": 3,
     "metadata": {},
     "output_type": "execute_result"
    }
   ],
   "source": [
    "chr(16)"
   ]
  }
 ],
 "metadata": {
  "kernelspec": {
   "display_name": "Python 3",
   "language": "python",
   "name": "python3"
  },
  "language_info": {
   "codemirror_mode": {
    "name": "ipython",
    "version": 3
   },
   "file_extension": ".py",
   "mimetype": "text/x-python",
   "name": "python",
   "nbconvert_exporter": "python",
   "pygments_lexer": "ipython3",
   "version": "3.8.8"
  }
 },
 "nbformat": 4,
 "nbformat_minor": 5
}
