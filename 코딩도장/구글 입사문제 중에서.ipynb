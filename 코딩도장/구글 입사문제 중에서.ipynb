{
 "cells": [
  {
   "cell_type": "markdown",
   "id": "5ab7f627",
   "metadata": {},
   "source": [
    "1부터 10,000까지 8이라는 숫자가 총 몇번 나오는가?\n",
    "\n",
    "8이 포함되어 있는 숫자의 갯수를 카운팅 하는 것이 아니라 8이라는 숫자를 모두 카운팅 해야 한다.\n",
    "(※ 예를들어 8808은 3, 8888은 4로 카운팅 해야 함)"
   ]
  },
  {
   "cell_type": "code",
   "execution_count": 2,
   "id": "e521e61d",
   "metadata": {},
   "outputs": [
    {
     "data": {
      "text/plain": [
       "4000"
      ]
     },
     "execution_count": 2,
     "metadata": {},
     "output_type": "execute_result"
    }
   ],
   "source": [
    "arr=[]\n",
    "\n",
    "for i in range(1,10001):\n",
    "    arr.append(i)\n",
    "\n",
    "str(list(arr)).count('8')\n",
    "\n",
    "    "
   ]
  }
 ],
 "metadata": {
  "kernelspec": {
   "display_name": "Python 3",
   "language": "python",
   "name": "python3"
  },
  "language_info": {
   "codemirror_mode": {
    "name": "ipython",
    "version": 3
   },
   "file_extension": ".py",
   "mimetype": "text/x-python",
   "name": "python",
   "nbconvert_exporter": "python",
   "pygments_lexer": "ipython3",
   "version": "3.8.8"
  }
 },
 "nbformat": 4,
 "nbformat_minor": 5
}
