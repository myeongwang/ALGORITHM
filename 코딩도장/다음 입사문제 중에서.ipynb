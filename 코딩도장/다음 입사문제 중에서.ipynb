{
 "cells": [
  {
   "cell_type": "markdown",
   "id": "f55531a4",
   "metadata": {},
   "source": [
    "1차원의 점들이 주어졌을 때, 그 중 가장 거리가 짧은 것의 쌍을 출력하는 함수를 작성하시오. (단 점들의 배열은 모두 정렬되어있다고 가정한다.)\n",
    "\n",
    "예를들어 S={1, 3, 4, 8, 13, 17, 20} 이 주어졌다면, 결과값은 (3, 4)가 될 것이다."
   ]
  },
  {
   "cell_type": "code",
   "execution_count": 7,
   "id": "00860191",
   "metadata": {},
   "outputs": [
    {
     "name": "stdout",
     "output_type": "stream",
     "text": [
      "(3, 4)\n"
     ]
    }
   ],
   "source": [
    "def solution(s):\n",
    "    ss=s[1:]\n",
    "    print(sorted(zip(s,ss), key=lambda x:x[1]-x[0])[0])\n",
    "\n",
    "\n",
    "s=[1,3,4,8,13,17,20]\n",
    "solution(s)\n",
    "    "
   ]
  },
  {
   "cell_type": "code",
   "execution_count": 19,
   "id": "fdce3697",
   "metadata": {},
   "outputs": [
    {
     "name": "stdout",
     "output_type": "stream",
     "text": [
      "(3, 4)\n"
     ]
    }
   ],
   "source": [
    "def solution(s):\n",
    "    index = 0\n",
    "    minim = float('inf')\n",
    "    for i in range(1, len(s)):\n",
    "        if (s[i] - s[i-1]) < minim:\n",
    "            index = i\n",
    "            minim = s[i] - s[i-1]\n",
    "    \n",
    "    # 수정된 부분: 출력 형식 변경\n",
    "    print(f\"({s[index-1]}, {s[index]})\")\n",
    "\n",
    "s = [1, 3, 4, 8, 13, 17, 20]\n",
    "solution(s)\n",
    "    "
   ]
  }
 ],
 "metadata": {
  "kernelspec": {
   "display_name": "Python 3",
   "language": "python",
   "name": "python3"
  },
  "language_info": {
   "codemirror_mode": {
    "name": "ipython",
    "version": 3
   },
   "file_extension": ".py",
   "mimetype": "text/x-python",
   "name": "python",
   "nbconvert_exporter": "python",
   "pygments_lexer": "ipython3",
   "version": "3.8.8"
  }
 },
 "nbformat": 4,
 "nbformat_minor": 5
}
